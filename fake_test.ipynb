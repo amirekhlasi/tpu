{
 "cells": [
  {
   "cell_type": "code",
   "execution_count": null,
   "metadata": {},
   "outputs": [],
   "source": [
    "import tensorflow as tf\n",
    "import numpy as np\n",
    "import estimator\n",
    "\n",
    "tf.enable_eager_execution()"
   ]
  },
  {
   "cell_type": "code",
   "execution_count": null,
   "metadata": {},
   "outputs": [],
   "source": [
    "fake_train = np.random.uniform(-10, 10, size=[1024, 50]).astype(np.float32)\n",
    "fake_dev = np.random.uniform(-10, 10, size=[128, 50]).astype(np.float32)"
   ]
  },
  {
   "cell_type": "code",
   "execution_count": null,
   "metadata": {},
   "outputs": [],
   "source": [
    "def _map(x):\n",
    "    y = tf.reduce_sum(x, keep_dims=True) > 0\n",
    "    y = tf.cast(y, tf.float32)\n",
    "    return {\"input\": x, \"label\": y}\n",
    "\n",
    "\n",
    "def data_fn():\n",
    "    train_data = tf.data.Dataset.from_tensor_slices(fake_train)\n",
    "    train_data = train_data.repeat()\n",
    "    train_data = train_data.map(_map)\n",
    "    train_data = train_data.batch(128, drop_remainder=True)\n",
    "    dev_data = tf.data.Dataset.from_tensor_slices(fake_dev)\n",
    "    dev_data = dev_data.repeat()\n",
    "    dev_data = dev_data.map(_map)\n",
    "    dev_data = dev_data.batch(128, drop_remainder=True)\n",
    "    data_spec = estimator.DataSpec(train=train_data, dev=dev_data)\n",
    "    return data_spec"
   ]
  },
  {
   "cell_type": "code",
   "execution_count": null,
   "metadata": {},
   "outputs": [],
   "source": [
    "def model_fn(data, training):\n",
    "    layer1 = tf.keras.layers.Dense(50, \"tanh\")\n",
    "    layer2 = tf.keras.layers.Dense(1, \"sigmoid\")\n",
    "    dropout = 0.1 * tf.cast(training, tf.float32)\n",
    "    x = data[\"input\"]\n",
    "    x = layer1(x)\n",
    "    x = tf.nn.dropout(x, rate=dropout)\n",
    "    x = layer2(x)\n",
    "    y = data[\"label\"]\n",
    "    loss = tf.keras.losses.binary_crossentropy(y, x)\n",
    "    loss = tf.reduce_mean(loss)\n",
    "    accuracy = tf.keras.metrics.binary_accuracy(y, x)\n",
    "    metric = {\"accuracy\": accuracy}\n",
    "    optimizer = tf.train.GradientDescentOptimizer(1e-3)\n",
    "    trainable_variables = layer1.weights + layer2.weights\n",
    "    model_spec = estimator.ModelSpec(\n",
    "        loss=loss,\n",
    "        optimizer=optimizer,\n",
    "        trainable_variables=trainable_variables,\n",
    "        metric=metric\n",
    "    )\n",
    "    return model_spec"
   ]
  },
  {
   "cell_type": "code",
   "execution_count": null,
   "metadata": {},
   "outputs": [],
   "source": [
    "run_config = estimator.RunConfig(\n",
    "    train_steps_per_round=1000,\n",
    "    eval_steps_per_round=20,\n",
    "    model_dir=\"model_dir\",\n",
    "    save_every_rounds=40,\n",
    ")"
   ]
  },
  {
   "cell_type": "code",
   "execution_count": null,
   "metadata": {},
   "outputs": [],
   "source": [
    "estm = estimator.Estimator(model_fn, data_fn, run_config)"
   ]
  },
  {
   "cell_type": "code",
   "execution_count": null,
   "metadata": {},
   "outputs": [],
   "source": [
    "estm.run(200)"
   ]
  }
 ],
 "metadata": {
  "kernelspec": {
   "display_name": "Python 3",
   "language": "python",
   "name": "python3"
  },
  "language_info": {
   "codemirror_mode": {
    "name": "ipython",
    "version": 3
   },
   "file_extension": ".py",
   "mimetype": "text/x-python",
   "name": "python",
   "nbconvert_exporter": "python",
   "pygments_lexer": "ipython3",
   "version": "3.7.4"
  }
 },
 "nbformat": 4,
 "nbformat_minor": 2
}
